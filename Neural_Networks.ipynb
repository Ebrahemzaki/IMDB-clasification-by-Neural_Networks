{
  "cells": [
    {
      "cell_type": "markdown",
      "source": [
        "# New Section"
      ],
      "metadata": {
        "id": "bcGc29WHPFWM"
      }
    },
    {
      "cell_type": "code",
      "source": [
        "#Load the libraries\n",
        "import numpy as np\n",
        "import pandas as pd\n",
        "import seaborn as sns\n",
        "import matplotlib.pyplot as plt\n",
        "import nltk\n",
        "nltk.download('stopwords')\n",
        "nltk.download('punkt')\n",
        "from nltk.corpus import stopwords\n",
        "from nltk.tokenize import word_tokenize,sent_tokenize\n",
        "from bs4 import BeautifulSoup\n",
        "import re,string,unicodedata\n",
        "from nltk.tokenize.toktok import ToktokTokenizer\n",
        "from sklearn.metrics import classification_report,confusion_matrix,accuracy_score\n",
        "from keras.preprocessing.text import Tokenizer\n",
        "from keras.preprocessing.sequence import pad_sequences\n",
        "from keras.models import sequential\n",
        "from keras.layers import Embedding,LSTM,Dense,Dropout\n",
        "from sklearn.preprocessing import LabelEncoder\n",
        "from keras.layers import Dense, SimpleRNN\n",
        "import tensorflow as tf\n"
      ],
      "metadata": {
        "colab": {
          "base_uri": "https://localhost:8080/"
        },
        "id": "8f8hg5dsPF46",
        "outputId": "a39cbdf6-6b79-46ca-9b43-83059e985d27"
      },
      "execution_count": null,
      "outputs": [
        {
          "output_type": "stream",
          "name": "stdout",
          "text": [
            "[nltk_data] Downloading package stopwords to /root/nltk_data...\n",
            "[nltk_data]   Package stopwords is already up-to-date!\n",
            "[nltk_data] Downloading package punkt to /root/nltk_data...\n",
            "[nltk_data]   Package punkt is already up-to-date!\n"
          ]
        }
      ]
    },
    {
      "cell_type": "code",
      "source": [
        "from google.colab import drive\n",
        "drive.mount('/content/drive')\n",
        "dt=pd.read_csv('/content/drive/MyDrive/Dataset/IMDB Dataset.csv')"
      ],
      "metadata": {
        "colab": {
          "base_uri": "https://localhost:8080/"
        },
        "id": "DFVrknF5PW8o",
        "outputId": "cae8de76-35c6-4638-bdc8-498da83ab5e1"
      },
      "execution_count": null,
      "outputs": [
        {
          "output_type": "stream",
          "name": "stdout",
          "text": [
            "Mounted at /content/drive\n"
          ]
        }
      ]
    },
    {
      "cell_type": "code",
      "source": [
        "dt.head(10)"
      ],
      "metadata": {
        "colab": {
          "base_uri": "https://localhost:8080/",
          "height": 363
        },
        "id": "OtzsWarUPXAK",
        "outputId": "e8cdeaea-035a-4b7b-eb75-ba1b34c09c3b"
      },
      "execution_count": null,
      "outputs": [
        {
          "output_type": "execute_result",
          "data": {
            "text/html": [
              "\n",
              "  <div id=\"df-969e3c80-606d-49fa-a4cb-a9d08d594a3a\">\n",
              "    <div class=\"colab-df-container\">\n",
              "      <div>\n",
              "<style scoped>\n",
              "    .dataframe tbody tr th:only-of-type {\n",
              "        vertical-align: middle;\n",
              "    }\n",
              "\n",
              "    .dataframe tbody tr th {\n",
              "        vertical-align: top;\n",
              "    }\n",
              "\n",
              "    .dataframe thead th {\n",
              "        text-align: right;\n",
              "    }\n",
              "</style>\n",
              "<table border=\"1\" class=\"dataframe\">\n",
              "  <thead>\n",
              "    <tr style=\"text-align: right;\">\n",
              "      <th></th>\n",
              "      <th>review</th>\n",
              "      <th>sentiment</th>\n",
              "    </tr>\n",
              "  </thead>\n",
              "  <tbody>\n",
              "    <tr>\n",
              "      <th>0</th>\n",
              "      <td>One of the other reviewers has mentioned that ...</td>\n",
              "      <td>positive</td>\n",
              "    </tr>\n",
              "    <tr>\n",
              "      <th>1</th>\n",
              "      <td>A wonderful little production. &lt;br /&gt;&lt;br /&gt;The...</td>\n",
              "      <td>positive</td>\n",
              "    </tr>\n",
              "    <tr>\n",
              "      <th>2</th>\n",
              "      <td>I thought this was a wonderful way to spend ti...</td>\n",
              "      <td>positive</td>\n",
              "    </tr>\n",
              "    <tr>\n",
              "      <th>3</th>\n",
              "      <td>Basically there's a family where a little boy ...</td>\n",
              "      <td>negative</td>\n",
              "    </tr>\n",
              "    <tr>\n",
              "      <th>4</th>\n",
              "      <td>Petter Mattei's \"Love in the Time of Money\" is...</td>\n",
              "      <td>positive</td>\n",
              "    </tr>\n",
              "    <tr>\n",
              "      <th>5</th>\n",
              "      <td>Probably my all-time favorite movie, a story o...</td>\n",
              "      <td>positive</td>\n",
              "    </tr>\n",
              "    <tr>\n",
              "      <th>6</th>\n",
              "      <td>I sure would like to see a resurrection of a u...</td>\n",
              "      <td>positive</td>\n",
              "    </tr>\n",
              "    <tr>\n",
              "      <th>7</th>\n",
              "      <td>This show was an amazing, fresh &amp; innovative i...</td>\n",
              "      <td>negative</td>\n",
              "    </tr>\n",
              "    <tr>\n",
              "      <th>8</th>\n",
              "      <td>Encouraged by the positive comments about this...</td>\n",
              "      <td>negative</td>\n",
              "    </tr>\n",
              "    <tr>\n",
              "      <th>9</th>\n",
              "      <td>If you like original gut wrenching laughter yo...</td>\n",
              "      <td>positive</td>\n",
              "    </tr>\n",
              "  </tbody>\n",
              "</table>\n",
              "</div>\n",
              "      <button class=\"colab-df-convert\" onclick=\"convertToInteractive('df-969e3c80-606d-49fa-a4cb-a9d08d594a3a')\"\n",
              "              title=\"Convert this dataframe to an interactive table.\"\n",
              "              style=\"display:none;\">\n",
              "        \n",
              "  <svg xmlns=\"http://www.w3.org/2000/svg\" height=\"24px\"viewBox=\"0 0 24 24\"\n",
              "       width=\"24px\">\n",
              "    <path d=\"M0 0h24v24H0V0z\" fill=\"none\"/>\n",
              "    <path d=\"M18.56 5.44l.94 2.06.94-2.06 2.06-.94-2.06-.94-.94-2.06-.94 2.06-2.06.94zm-11 1L8.5 8.5l.94-2.06 2.06-.94-2.06-.94L8.5 2.5l-.94 2.06-2.06.94zm10 10l.94 2.06.94-2.06 2.06-.94-2.06-.94-.94-2.06-.94 2.06-2.06.94z\"/><path d=\"M17.41 7.96l-1.37-1.37c-.4-.4-.92-.59-1.43-.59-.52 0-1.04.2-1.43.59L10.3 9.45l-7.72 7.72c-.78.78-.78 2.05 0 2.83L4 21.41c.39.39.9.59 1.41.59.51 0 1.02-.2 1.41-.59l7.78-7.78 2.81-2.81c.8-.78.8-2.07 0-2.86zM5.41 20L4 18.59l7.72-7.72 1.47 1.35L5.41 20z\"/>\n",
              "  </svg>\n",
              "      </button>\n",
              "      \n",
              "  <style>\n",
              "    .colab-df-container {\n",
              "      display:flex;\n",
              "      flex-wrap:wrap;\n",
              "      gap: 12px;\n",
              "    }\n",
              "\n",
              "    .colab-df-convert {\n",
              "      background-color: #E8F0FE;\n",
              "      border: none;\n",
              "      border-radius: 50%;\n",
              "      cursor: pointer;\n",
              "      display: none;\n",
              "      fill: #1967D2;\n",
              "      height: 32px;\n",
              "      padding: 0 0 0 0;\n",
              "      width: 32px;\n",
              "    }\n",
              "\n",
              "    .colab-df-convert:hover {\n",
              "      background-color: #E2EBFA;\n",
              "      box-shadow: 0px 1px 2px rgba(60, 64, 67, 0.3), 0px 1px 3px 1px rgba(60, 64, 67, 0.15);\n",
              "      fill: #174EA6;\n",
              "    }\n",
              "\n",
              "    [theme=dark] .colab-df-convert {\n",
              "      background-color: #3B4455;\n",
              "      fill: #D2E3FC;\n",
              "    }\n",
              "\n",
              "    [theme=dark] .colab-df-convert:hover {\n",
              "      background-color: #434B5C;\n",
              "      box-shadow: 0px 1px 3px 1px rgba(0, 0, 0, 0.15);\n",
              "      filter: drop-shadow(0px 1px 2px rgba(0, 0, 0, 0.3));\n",
              "      fill: #FFFFFF;\n",
              "    }\n",
              "  </style>\n",
              "\n",
              "      <script>\n",
              "        const buttonEl =\n",
              "          document.querySelector('#df-969e3c80-606d-49fa-a4cb-a9d08d594a3a button.colab-df-convert');\n",
              "        buttonEl.style.display =\n",
              "          google.colab.kernel.accessAllowed ? 'block' : 'none';\n",
              "\n",
              "        async function convertToInteractive(key) {\n",
              "          const element = document.querySelector('#df-969e3c80-606d-49fa-a4cb-a9d08d594a3a');\n",
              "          const dataTable =\n",
              "            await google.colab.kernel.invokeFunction('convertToInteractive',\n",
              "                                                     [key], {});\n",
              "          if (!dataTable) return;\n",
              "\n",
              "          const docLinkHtml = 'Like what you see? Visit the ' +\n",
              "            '<a target=\"_blank\" href=https://colab.research.google.com/notebooks/data_table.ipynb>data table notebook</a>'\n",
              "            + ' to learn more about interactive tables.';\n",
              "          element.innerHTML = '';\n",
              "          dataTable['output_type'] = 'display_data';\n",
              "          await google.colab.output.renderOutput(dataTable, element);\n",
              "          const docLink = document.createElement('div');\n",
              "          docLink.innerHTML = docLinkHtml;\n",
              "          element.appendChild(docLink);\n",
              "        }\n",
              "      </script>\n",
              "    </div>\n",
              "  </div>\n",
              "  "
            ],
            "text/plain": [
              "                                              review sentiment\n",
              "0  One of the other reviewers has mentioned that ...  positive\n",
              "1  A wonderful little production. <br /><br />The...  positive\n",
              "2  I thought this was a wonderful way to spend ti...  positive\n",
              "3  Basically there's a family where a little boy ...  negative\n",
              "4  Petter Mattei's \"Love in the Time of Money\" is...  positive\n",
              "5  Probably my all-time favorite movie, a story o...  positive\n",
              "6  I sure would like to see a resurrection of a u...  positive\n",
              "7  This show was an amazing, fresh & innovative i...  negative\n",
              "8  Encouraged by the positive comments about this...  negative\n",
              "9  If you like original gut wrenching laughter yo...  positive"
            ]
          },
          "metadata": {},
          "execution_count": 3
        }
      ]
    },
    {
      "cell_type": "code",
      "source": [
        "dt.describe()"
      ],
      "metadata": {
        "colab": {
          "base_uri": "https://localhost:8080/",
          "height": 174
        },
        "id": "vzE5993sPXC2",
        "outputId": "4e41e290-24b6-4fcc-9f4b-dcfad1adae0b"
      },
      "execution_count": null,
      "outputs": [
        {
          "output_type": "execute_result",
          "data": {
            "text/html": [
              "\n",
              "  <div id=\"df-e097a31d-4a1a-4e83-a9bf-64a6b19d02b1\">\n",
              "    <div class=\"colab-df-container\">\n",
              "      <div>\n",
              "<style scoped>\n",
              "    .dataframe tbody tr th:only-of-type {\n",
              "        vertical-align: middle;\n",
              "    }\n",
              "\n",
              "    .dataframe tbody tr th {\n",
              "        vertical-align: top;\n",
              "    }\n",
              "\n",
              "    .dataframe thead th {\n",
              "        text-align: right;\n",
              "    }\n",
              "</style>\n",
              "<table border=\"1\" class=\"dataframe\">\n",
              "  <thead>\n",
              "    <tr style=\"text-align: right;\">\n",
              "      <th></th>\n",
              "      <th>review</th>\n",
              "      <th>sentiment</th>\n",
              "    </tr>\n",
              "  </thead>\n",
              "  <tbody>\n",
              "    <tr>\n",
              "      <th>count</th>\n",
              "      <td>50000</td>\n",
              "      <td>50000</td>\n",
              "    </tr>\n",
              "    <tr>\n",
              "      <th>unique</th>\n",
              "      <td>49582</td>\n",
              "      <td>2</td>\n",
              "    </tr>\n",
              "    <tr>\n",
              "      <th>top</th>\n",
              "      <td>Loved today's show!!! It was a variety and not...</td>\n",
              "      <td>negative</td>\n",
              "    </tr>\n",
              "    <tr>\n",
              "      <th>freq</th>\n",
              "      <td>5</td>\n",
              "      <td>25000</td>\n",
              "    </tr>\n",
              "  </tbody>\n",
              "</table>\n",
              "</div>\n",
              "      <button class=\"colab-df-convert\" onclick=\"convertToInteractive('df-e097a31d-4a1a-4e83-a9bf-64a6b19d02b1')\"\n",
              "              title=\"Convert this dataframe to an interactive table.\"\n",
              "              style=\"display:none;\">\n",
              "        \n",
              "  <svg xmlns=\"http://www.w3.org/2000/svg\" height=\"24px\"viewBox=\"0 0 24 24\"\n",
              "       width=\"24px\">\n",
              "    <path d=\"M0 0h24v24H0V0z\" fill=\"none\"/>\n",
              "    <path d=\"M18.56 5.44l.94 2.06.94-2.06 2.06-.94-2.06-.94-.94-2.06-.94 2.06-2.06.94zm-11 1L8.5 8.5l.94-2.06 2.06-.94-2.06-.94L8.5 2.5l-.94 2.06-2.06.94zm10 10l.94 2.06.94-2.06 2.06-.94-2.06-.94-.94-2.06-.94 2.06-2.06.94z\"/><path d=\"M17.41 7.96l-1.37-1.37c-.4-.4-.92-.59-1.43-.59-.52 0-1.04.2-1.43.59L10.3 9.45l-7.72 7.72c-.78.78-.78 2.05 0 2.83L4 21.41c.39.39.9.59 1.41.59.51 0 1.02-.2 1.41-.59l7.78-7.78 2.81-2.81c.8-.78.8-2.07 0-2.86zM5.41 20L4 18.59l7.72-7.72 1.47 1.35L5.41 20z\"/>\n",
              "  </svg>\n",
              "      </button>\n",
              "      \n",
              "  <style>\n",
              "    .colab-df-container {\n",
              "      display:flex;\n",
              "      flex-wrap:wrap;\n",
              "      gap: 12px;\n",
              "    }\n",
              "\n",
              "    .colab-df-convert {\n",
              "      background-color: #E8F0FE;\n",
              "      border: none;\n",
              "      border-radius: 50%;\n",
              "      cursor: pointer;\n",
              "      display: none;\n",
              "      fill: #1967D2;\n",
              "      height: 32px;\n",
              "      padding: 0 0 0 0;\n",
              "      width: 32px;\n",
              "    }\n",
              "\n",
              "    .colab-df-convert:hover {\n",
              "      background-color: #E2EBFA;\n",
              "      box-shadow: 0px 1px 2px rgba(60, 64, 67, 0.3), 0px 1px 3px 1px rgba(60, 64, 67, 0.15);\n",
              "      fill: #174EA6;\n",
              "    }\n",
              "\n",
              "    [theme=dark] .colab-df-convert {\n",
              "      background-color: #3B4455;\n",
              "      fill: #D2E3FC;\n",
              "    }\n",
              "\n",
              "    [theme=dark] .colab-df-convert:hover {\n",
              "      background-color: #434B5C;\n",
              "      box-shadow: 0px 1px 3px 1px rgba(0, 0, 0, 0.15);\n",
              "      filter: drop-shadow(0px 1px 2px rgba(0, 0, 0, 0.3));\n",
              "      fill: #FFFFFF;\n",
              "    }\n",
              "  </style>\n",
              "\n",
              "      <script>\n",
              "        const buttonEl =\n",
              "          document.querySelector('#df-e097a31d-4a1a-4e83-a9bf-64a6b19d02b1 button.colab-df-convert');\n",
              "        buttonEl.style.display =\n",
              "          google.colab.kernel.accessAllowed ? 'block' : 'none';\n",
              "\n",
              "        async function convertToInteractive(key) {\n",
              "          const element = document.querySelector('#df-e097a31d-4a1a-4e83-a9bf-64a6b19d02b1');\n",
              "          const dataTable =\n",
              "            await google.colab.kernel.invokeFunction('convertToInteractive',\n",
              "                                                     [key], {});\n",
              "          if (!dataTable) return;\n",
              "\n",
              "          const docLinkHtml = 'Like what you see? Visit the ' +\n",
              "            '<a target=\"_blank\" href=https://colab.research.google.com/notebooks/data_table.ipynb>data table notebook</a>'\n",
              "            + ' to learn more about interactive tables.';\n",
              "          element.innerHTML = '';\n",
              "          dataTable['output_type'] = 'display_data';\n",
              "          await google.colab.output.renderOutput(dataTable, element);\n",
              "          const docLink = document.createElement('div');\n",
              "          docLink.innerHTML = docLinkHtml;\n",
              "          element.appendChild(docLink);\n",
              "        }\n",
              "      </script>\n",
              "    </div>\n",
              "  </div>\n",
              "  "
            ],
            "text/plain": [
              "                                                   review sentiment\n",
              "count                                               50000     50000\n",
              "unique                                              49582         2\n",
              "top     Loved today's show!!! It was a variety and not...  negative\n",
              "freq                                                    5     25000"
            ]
          },
          "metadata": {},
          "execution_count": 4
        }
      ]
    },
    {
      "cell_type": "code",
      "source": [
        "dt['sentiment'].value_counts()"
      ],
      "metadata": {
        "colab": {
          "base_uri": "https://localhost:8080/"
        },
        "id": "bJ9V2QJsPXFf",
        "outputId": "5e9c45fb-f91b-4742-e2ed-065069b7945b"
      },
      "execution_count": null,
      "outputs": [
        {
          "output_type": "execute_result",
          "data": {
            "text/plain": [
              "negative    25000\n",
              "positive    25000\n",
              "Name: sentiment, dtype: int64"
            ]
          },
          "metadata": {},
          "execution_count": 5
        }
      ]
    },
    {
      "cell_type": "code",
      "source": [
        "#Tokenization of text\n",
        "tokenizer=ToktokTokenizer()\n",
        "#Setting English stopwords\n",
        "stopword_list=nltk.corpus.stopwords.words('english')"
      ],
      "metadata": {
        "id": "-UqnVbZGTxrb"
      },
      "execution_count": null,
      "outputs": []
    },
    {
      "cell_type": "code",
      "source": [
        "dt['review'].head(10)"
      ],
      "metadata": {
        "colab": {
          "base_uri": "https://localhost:8080/"
        },
        "id": "t9_89n5HTPas",
        "outputId": "6bee4cfc-c189-4342-beb5-4c41930a33e7"
      },
      "execution_count": null,
      "outputs": [
        {
          "output_type": "execute_result",
          "data": {
            "text/plain": [
              "0    One of the other reviewers has mentioned that ...\n",
              "1    A wonderful little production. <br /><br />The...\n",
              "2    I thought this was a wonderful way to spend ti...\n",
              "3    Basically there's a family where a little boy ...\n",
              "4    Petter Mattei's \"Love in the Time of Money\" is...\n",
              "5    Probably my all-time favorite movie, a story o...\n",
              "6    I sure would like to see a resurrection of a u...\n",
              "7    This show was an amazing, fresh & innovative i...\n",
              "8    Encouraged by the positive comments about this...\n",
              "9    If you like original gut wrenching laughter yo...\n",
              "Name: review, dtype: object"
            ]
          },
          "metadata": {},
          "execution_count": 7
        }
      ]
    },
    {
      "cell_type": "code",
      "source": [
        "#Removing the html strips\n",
        "def strip_html(text):\n",
        "    soup = BeautifulSoup(text, \"html.parser\")\n",
        "    return soup.get_text()\n",
        "\n",
        "#Removing the square brackets\n",
        "def remove_between_square_brackets(text):\n",
        "    return re.sub('\\[[^]]*\\]', '', text)\n",
        "\n",
        "#Removing the noisy text\n",
        "def denoise_text(text):\n",
        "    text = strip_html(text)\n",
        "    text = remove_between_square_brackets(text)\n",
        "    return text\n",
        "#Apply function on review column\n",
        "dt['review']=dt['review'].apply(denoise_text)"
      ],
      "metadata": {
        "id": "1PpDFQ9dPXH3"
      },
      "execution_count": null,
      "outputs": []
    },
    {
      "cell_type": "code",
      "source": [
        "dt['review'].head(10)"
      ],
      "metadata": {
        "colab": {
          "base_uri": "https://localhost:8080/"
        },
        "id": "g50L1Dn_TbDl",
        "outputId": "f72ca072-c621-4634-e813-49f77c9b43e9"
      },
      "execution_count": null,
      "outputs": [
        {
          "output_type": "execute_result",
          "data": {
            "text/plain": [
              "0    One of the other reviewers has mentioned that ...\n",
              "1    A wonderful little production. The filming tec...\n",
              "2    I thought this was a wonderful way to spend ti...\n",
              "3    Basically there's a family where a little boy ...\n",
              "4    Petter Mattei's \"Love in the Time of Money\" is...\n",
              "5    Probably my all-time favorite movie, a story o...\n",
              "6    I sure would like to see a resurrection of a u...\n",
              "7    This show was an amazing, fresh & innovative i...\n",
              "8    Encouraged by the positive comments about this...\n",
              "9    If you like original gut wrenching laughter yo...\n",
              "Name: review, dtype: object"
            ]
          },
          "metadata": {},
          "execution_count": 9
        }
      ]
    },
    {
      "cell_type": "code",
      "source": [
        "#Define function for removing special characters\n",
        "def remove_special_characters(text, remove_digits=True):\n",
        "    pattern=r'[^a-zA-z0-9\\s]'\n",
        "    text=re.sub(pattern,'',text)\n",
        "    return text\n",
        "#Apply function on review column\n",
        "dt['review']=dt['review'].apply(remove_special_characters)"
      ],
      "metadata": {
        "id": "_RXjo8psPXKe"
      },
      "execution_count": null,
      "outputs": []
    },
    {
      "cell_type": "code",
      "source": [
        "dt['review'].head(10)"
      ],
      "metadata": {
        "colab": {
          "base_uri": "https://localhost:8080/"
        },
        "id": "SZV9xpYeTcG9",
        "outputId": "83ae34c5-adce-413b-a678-5d8b20cd86fa"
      },
      "execution_count": null,
      "outputs": [
        {
          "output_type": "execute_result",
          "data": {
            "text/plain": [
              "0    One of the other reviewers has mentioned that ...\n",
              "1    A wonderful little production The filming tech...\n",
              "2    I thought this was a wonderful way to spend ti...\n",
              "3    Basically theres a family where a little boy J...\n",
              "4    Petter Matteis Love in the Time of Money is a ...\n",
              "5    Probably my alltime favorite movie a story of ...\n",
              "6    I sure would like to see a resurrection of a u...\n",
              "7    This show was an amazing fresh  innovative ide...\n",
              "8    Encouraged by the positive comments about this...\n",
              "9    If you like original gut wrenching laughter yo...\n",
              "Name: review, dtype: object"
            ]
          },
          "metadata": {},
          "execution_count": 11
        }
      ]
    },
    {
      "cell_type": "code",
      "source": [
        "#set stopwords to english\n",
        "stop=set(stopwords.words('english'))\n",
        "\n",
        "\n",
        "#removing the stopwords\n",
        "def remove_stopwords(text, is_lower_case=False):\n",
        "    tokens = tokenizer.tokenize(text)\n",
        "    tokens = [token.strip() for token in tokens]\n",
        "    if is_lower_case:\n",
        "        filtered_tokens = [token for token in tokens if token not in stopword_list]\n",
        "    else:\n",
        "        filtered_tokens = [token for token in tokens if token.lower() not in stopword_list]\n",
        "    filtered_text = ' '.join(filtered_tokens)    \n",
        "    return filtered_text\n",
        "#Apply function on review column\n",
        "dt['review']=dt['review'].apply(remove_stopwords)"
      ],
      "metadata": {
        "id": "1CzvolPuPXMv"
      },
      "execution_count": null,
      "outputs": []
    },
    {
      "cell_type": "code",
      "source": [
        "dt['review'].head(10)"
      ],
      "metadata": {
        "colab": {
          "base_uri": "https://localhost:8080/"
        },
        "id": "W4iVpae4Tc5O",
        "outputId": "928367df-87fe-44a4-e596-f1a168e81d77"
      },
      "execution_count": null,
      "outputs": [
        {
          "output_type": "execute_result",
          "data": {
            "text/plain": [
              "0    One reviewers mentioned watching 1 Oz episode ...\n",
              "1    wonderful little production filming technique ...\n",
              "2    thought wonderful way spend time hot summer we...\n",
              "3    Basically theres family little boy Jake thinks...\n",
              "4    Petter Matteis Love Time Money visually stunni...\n",
              "5    Probably alltime favorite movie story selfless...\n",
              "6    sure would like see resurrection dated Seahunt...\n",
              "7    show amazing fresh innovative idea 70s first a...\n",
              "8    Encouraged positive comments film looking forw...\n",
              "9    like original gut wrenching laughter like movi...\n",
              "Name: review, dtype: object"
            ]
          },
          "metadata": {},
          "execution_count": 13
        }
      ]
    },
    {
      "cell_type": "code",
      "source": [
        "corpus = []\n",
        "for text in dt['review']:\n",
        "  words=[word.lower()for word in word_tokenize(text)]\n",
        "  corpus.append(words)"
      ],
      "metadata": {
        "id": "Rqz7RA-lU4Lr"
      },
      "execution_count": null,
      "outputs": []
    },
    {
      "cell_type": "code",
      "source": [
        "num_words=len(corpus)\n",
        "print(num_words)"
      ],
      "metadata": {
        "colab": {
          "base_uri": "https://localhost:8080/"
        },
        "id": "NSDdFxeOU4k-",
        "outputId": "476c550d-74bd-4d9a-c891-93a4a8cdb36c"
      },
      "execution_count": null,
      "outputs": [
        {
          "output_type": "stream",
          "name": "stdout",
          "text": [
            "50000\n"
          ]
        }
      ]
    },
    {
      "cell_type": "code",
      "source": [
        "train_size=int(dt.shape[0]*0.9)\n",
        "x_train=dt.review[:train_size]\n",
        "y_train=dt.sentiment[:train_size]\n",
        "\n",
        "x_test=dt.review[train_size:]\n",
        "y_test=dt.sentiment[train_size:]"
      ],
      "metadata": {
        "id": "s0CPFyOhPXRl"
      },
      "execution_count": null,
      "outputs": []
    },
    {
      "cell_type": "code",
      "source": [
        "tokenizer=Tokenizer(num_words)\n",
        "tokenizer.fit_on_texts(x_train)\n",
        "\n",
        "x_train=tokenizer.texts_to_sequences(x_train)\n",
        "x_train=pad_sequences(x_train ,maxlen=128, truncating='post',padding='post')"
      ],
      "metadata": {
        "id": "ZhBT53JyR8TD"
      },
      "execution_count": null,
      "outputs": []
    },
    {
      "cell_type": "code",
      "source": [
        "x_train[0],len(x_train[0])"
      ],
      "metadata": {
        "colab": {
          "base_uri": "https://localhost:8080/"
        },
        "id": "gntD1qmIR8WL",
        "outputId": "ddf49d03-dfd7-4ab7-bbd5-2722d271b2ec"
      },
      "execution_count": null,
      "outputs": [
        {
          "output_type": "execute_result",
          "data": {
            "text/plain": [
              "(array([    3,  1817,   934,    56,   397,  3080,   288,   343,  3044,\n",
              "          106,   479,   470,  7262,    19,    57,  3118,  3080,  5429,\n",
              "        14167,    50,   478,   179,   106,   559,    52,  1591,    41,\n",
              "         8381,  5585, 11185,    41,  2269,  5724,  5402,  1333,   276,\n",
              "          478,  3294,   244,   234,   352,  3080, 11031,   242, 14815,\n",
              "         6620,  2436,   946,  2465,  1261, 24159,   420,  4694,  2325,\n",
              "         1056,  6510,  2827, 12355,   293, 18637,   216,  4882,  3500,\n",
              "          420,   232,  7807, 37767, 14492,  4855,  7883,  2257, 15907,\n",
              "          225,  8965,  7021, 12135,  8216, 37768,    34,   130, 20596,\n",
              "            7,    47,   168,  1158,    41,   545,    91,   158,   154,\n",
              "          438,  2942,   700,    83,  1150,  4216,  2331,   944,   700,\n",
              "         1275,   700,    58,   860,    88,    19,   288,    43,   105,\n",
              "         3118,  1425,  2068,   290,    47,  1413,   172,  1337,  1141,\n",
              "         3080,    89,  9554,   216,  1984,  2025,   478,   478,  7591,\n",
              "         6777,  4759], dtype=int32), 128)"
            ]
          },
          "metadata": {},
          "execution_count": 33
        }
      ]
    },
    {
      "cell_type": "code",
      "source": [
        "x_test=tokenizer.texts_to_sequences(x_test)\n",
        "x_test=pad_sequences(x_test ,maxlen=128, truncating='post',padding='post')"
      ],
      "metadata": {
        "id": "ngoTB0S9R8Y-"
      },
      "execution_count": null,
      "outputs": []
    },
    {
      "cell_type": "code",
      "source": [
        "x_test[0],len(x_test[0])"
      ],
      "metadata": {
        "colab": {
          "base_uri": "https://localhost:8080/"
        },
        "id": "6uLmbHcqSEJ0",
        "outputId": "b76da770-d5a9-4511-e120-ef21def54395"
      },
      "execution_count": null,
      "outputs": [
        {
          "output_type": "execute_result",
          "data": {
            "text/plain": [
              "(array([  383,     2,  1155,  3145,  6016,   574,   302, 17647,   550,\n",
              "          122,   539,   332,   184,    11,    61,  9276,  2630,   757,\n",
              "           32,  1810,   205,  3007, 14087,   923,  1486,  3145,   149,\n",
              "          638,    35,   114,   157,    73,  7940,    23,  4950,  2348,\n",
              "          166,    15,  6453,   282,  4144,  2429, 15124,   331,    35,\n",
              "         8916,  1411, 23297,   274, 45764,  8752, 46269,   174,     5,\n",
              "         3145,  1453,  5771,     3,  3145,  8270,   184,  3951,     3,\n",
              "           22,     7,     4,   649,   268,    43,     0,     0,     0,\n",
              "            0,     0,     0,     0,     0,     0,     0,     0,     0,\n",
              "            0,     0,     0,     0,     0,     0,     0,     0,     0,\n",
              "            0,     0,     0,     0,     0,     0,     0,     0,     0,\n",
              "            0,     0,     0,     0,     0,     0,     0,     0,     0,\n",
              "            0,     0,     0,     0,     0,     0,     0,     0,     0,\n",
              "            0,     0,     0,     0,     0,     0,     0,     0,     0,\n",
              "            0,     0], dtype=int32), 128)"
            ]
          },
          "metadata": {},
          "execution_count": 35
        }
      ]
    },
    {
      "cell_type": "code",
      "source": [
        "print(x_train.shape,y_train.shape)\n",
        "print(x_test.shape,y_test.shape)"
      ],
      "metadata": {
        "colab": {
          "base_uri": "https://localhost:8080/"
        },
        "id": "fmvERa1vSEMW",
        "outputId": "75a22c84-21b0-4ad0-ba78-a4498a839181"
      },
      "execution_count": null,
      "outputs": [
        {
          "output_type": "stream",
          "name": "stdout",
          "text": [
            "(45000, 128) (45000,)\n",
            "(5000, 128) (5000,)\n"
          ]
        }
      ]
    },
    {
      "cell_type": "code",
      "source": [
        "le=LabelEncoder()\n",
        "y_train=le.fit_transform(y_train)\n",
        "y_test=le.transform(y_test)"
      ],
      "metadata": {
        "id": "nSxpRMKpSEPq"
      },
      "execution_count": null,
      "outputs": []
    },
    {
      "cell_type": "code",
      "source": [
        "model.summary()"
      ],
      "metadata": {
        "id": "dcLfWaujjInY"
      },
      "execution_count": null,
      "outputs": []
    },
    {
      "cell_type": "code",
      "source": [
        "embedding_dim = 300\n",
        "lstm_model = tf.keras.models.Sequential([\n",
        "    tf.keras.layers.Embedding(input_dim=num_words,output_dim=100\n",
        "                     ,input_length=128,trainable=True),\n",
        "    tf.keras.layers.LSTM(units=64, activation='tanh', return_sequences=True),\n",
        "    tf.keras.layers.LSTM(units=32, activation='tanh'),\n",
        "\n",
        "    tf.keras.layers.Dense(1, activation='sigmoid')\n",
        "])\n",
        "\n",
        "lstm_model.compile(loss='binary_crossentropy',\n",
        "                   optimizer='adam',\n",
        "                   metrics=['accuracy'])\n",
        "\n",
        "lstm_model_history = lstm_model.fit(x_train,y_train,\n",
        "                                    validation_data=(x_test,y_test),\n",
        "                                    epochs=5)"
      ],
      "metadata": {
        "colab": {
          "base_uri": "https://localhost:8080/"
        },
        "id": "yqOqhBzLi8u7",
        "outputId": "2522d3da-4b75-452d-bd5e-b7d98e070451"
      },
      "execution_count": null,
      "outputs": [
        {
          "output_type": "stream",
          "name": "stdout",
          "text": [
            "Epoch 1/5\n",
            "1407/1407 [==============================] - 241s 168ms/step - loss: 0.6536 - accuracy: 0.6050 - val_loss: 0.6009 - val_accuracy: 0.7080\n",
            "Epoch 2/5\n",
            "1407/1407 [==============================] - 231s 164ms/step - loss: 0.6297 - accuracy: 0.6381 - val_loss: 0.6479 - val_accuracy: 0.7422\n",
            "Epoch 3/5\n",
            "1407/1407 [==============================] - 232s 165ms/step - loss: 0.6000 - accuracy: 0.6943 - val_loss: 0.5528 - val_accuracy: 0.7742\n",
            "Epoch 4/5\n",
            "1407/1407 [==============================] - 231s 164ms/step - loss: 0.3309 - accuracy: 0.8686 - val_loss: 0.6070 - val_accuracy: 0.6610\n",
            "Epoch 5/5\n",
            "1407/1407 [==============================] - 230s 164ms/step - loss: 0.2447 - accuracy: 0.9152 - val_loss: 0.3133 - val_accuracy: 0.8790\n"
          ]
        }
      ]
    },
    {
      "cell_type": "code",
      "source": [
        "lstm_model.summary()"
      ],
      "metadata": {
        "colab": {
          "base_uri": "https://localhost:8080/"
        },
        "id": "YW-SHiA_SG24",
        "outputId": "bbceb8f0-9487-4dc8-c060-3cc9680a2b15"
      },
      "execution_count": null,
      "outputs": [
        {
          "output_type": "stream",
          "name": "stdout",
          "text": [
            "Model: \"sequential\"\n",
            "_________________________________________________________________\n",
            " Layer (type)                Output Shape              Param #   \n",
            "=================================================================\n",
            " embedding (Embedding)       (None, 128, 100)          5000000   \n",
            "                                                                 \n",
            " lstm (LSTM)                 (None, 128, 64)           42240     \n",
            "                                                                 \n",
            " lstm_1 (LSTM)               (None, 32)                12416     \n",
            "                                                                 \n",
            " dense (Dense)               (None, 1)                 33        \n",
            "                                                                 \n",
            "=================================================================\n",
            "Total params: 5,054,689\n",
            "Trainable params: 5,054,689\n",
            "Non-trainable params: 0\n",
            "_________________________________________________________________\n"
          ]
        }
      ]
    },
    {
      "cell_type": "code",
      "source": [
        "embedding_dim = 300\n",
        "simple_model = tf.keras.models.Sequential([\n",
        "    tf.keras.layers.Embedding(input_dim=num_words,output_dim=100\n",
        "                     ,input_length=128,trainable=True),\n",
        "    #tf.keras.layers.Flatten(),\n",
        "    tf.keras.layers.GlobalAveragePooling1D(),\n",
        "    tf.keras.layers.Dense(256, activation='relu'),\n",
        "    tf.keras.layers.Dense(128, activation='relu'),\n",
        "    tf.keras.layers.Dense(64, activation='relu'),\n",
        "\n",
        "    tf.keras.layers.Dense(1, activation='sigmoid')\n",
        "])\n",
        "\n",
        "simple_model.compile(loss='binary_crossentropy',\n",
        "                     optimizer='adam',\n",
        "                     metrics=['accuracy'])\n",
        "\n",
        "simple_model_history = simple_model.fit(x_train,y_train,\n",
        "                                        validation_data=(x_test,y_test),\n",
        "                                        epochs=5)"
      ],
      "metadata": {
        "colab": {
          "base_uri": "https://localhost:8080/"
        },
        "id": "250WCcRzSnrD",
        "outputId": "0840f66b-d146-4044-be0d-b6f1e1780f05"
      },
      "execution_count": null,
      "outputs": [
        {
          "output_type": "stream",
          "name": "stdout",
          "text": [
            "Epoch 1/5\n",
            "1407/1407 [==============================] - 69s 49ms/step - loss: 0.3277 - accuracy: 0.8535 - val_loss: 0.3241 - val_accuracy: 0.8674\n",
            "Epoch 2/5\n",
            "1407/1407 [==============================] - 70s 50ms/step - loss: 0.1649 - accuracy: 0.9364 - val_loss: 0.3119 - val_accuracy: 0.8802\n",
            "Epoch 3/5\n",
            "1407/1407 [==============================] - 68s 48ms/step - loss: 0.0929 - accuracy: 0.9625 - val_loss: 0.4352 - val_accuracy: 0.8708\n",
            "Epoch 4/5\n",
            "1407/1407 [==============================] - 67s 48ms/step - loss: 0.0580 - accuracy: 0.9760 - val_loss: 0.5204 - val_accuracy: 0.8728\n",
            "Epoch 5/5\n",
            "1407/1407 [==============================] - 67s 48ms/step - loss: 0.0424 - accuracy: 0.9834 - val_loss: 0.6719 - val_accuracy: 0.8736\n"
          ]
        }
      ]
    },
    {
      "cell_type": "code",
      "source": [
        "simple_model.summary()"
      ],
      "metadata": {
        "colab": {
          "base_uri": "https://localhost:8080/"
        },
        "id": "Y3kPpNnTmBTa",
        "outputId": "494156ed-29e1-443a-e79d-4c0d1867fef9"
      },
      "execution_count": null,
      "outputs": [
        {
          "output_type": "stream",
          "name": "stdout",
          "text": [
            "Model: \"sequential_1\"\n",
            "_________________________________________________________________\n",
            " Layer (type)                Output Shape              Param #   \n",
            "=================================================================\n",
            " embedding_1 (Embedding)     (None, 128, 100)          5000000   \n",
            "                                                                 \n",
            " global_average_pooling1d (G  (None, 100)              0         \n",
            " lobalAveragePooling1D)                                          \n",
            "                                                                 \n",
            " dense_1 (Dense)             (None, 256)               25856     \n",
            "                                                                 \n",
            " dense_2 (Dense)             (None, 128)               32896     \n",
            "                                                                 \n",
            " dense_3 (Dense)             (None, 64)                8256      \n",
            "                                                                 \n",
            " dense_4 (Dense)             (None, 1)                 65        \n",
            "                                                                 \n",
            "=================================================================\n",
            "Total params: 5,067,073\n",
            "Trainable params: 5,067,073\n",
            "Non-trainable params: 0\n",
            "_________________________________________________________________\n"
          ]
        }
      ]
    },
    {
      "cell_type": "code",
      "source": [
        "embedding_dim = 300\n",
        "simple_rnn_model = tf.keras.models.Sequential([\n",
        "     tf.keras.layers.Embedding(input_dim=num_words,output_dim=100\n",
        "                     ,input_length=128,trainable=True),\n",
        "     tf.keras.layers.SimpleRNN(units=64, activation='tanh', return_sequences=True),\n",
        "     tf.keras.layers.SimpleRNN(units=32, activation='tanh'),\n",
        "\n",
        "     tf.keras.layers.Dense(1, activation='sigmoid')\n",
        " ])\n",
        "\n",
        "simple_rnn_model.compile(loss='binary_crossentropy',\n",
        "                          optimizer='adam',\n",
        "                          metrics=['accuracy'])\n",
        "\n",
        "simple_rnn_model_history = simple_rnn_model.fit(x_train,y_train,\n",
        "                                                 validation_data=(x_test,y_test),\n",
        "                                                 epochs=5)"
      ],
      "metadata": {
        "colab": {
          "base_uri": "https://localhost:8080/"
        },
        "id": "fQHoT1tSX1jC",
        "outputId": "b4ae37ea-8bcc-41ed-d9dc-4499d8d4b745"
      },
      "execution_count": null,
      "outputs": [
        {
          "output_type": "stream",
          "name": "stdout",
          "text": [
            "Epoch 1/5\n",
            "1407/1407 [==============================] - 140s 98ms/step - loss: 0.6999 - accuracy: 0.4999 - val_loss: 0.6972 - val_accuracy: 0.5020\n",
            "Epoch 2/5\n",
            "1407/1407 [==============================] - 137s 98ms/step - loss: 0.6966 - accuracy: 0.4994 - val_loss: 0.6934 - val_accuracy: 0.5016\n",
            "Epoch 3/5\n",
            "1407/1407 [==============================] - 138s 98ms/step - loss: 0.6943 - accuracy: 0.4993 - val_loss: 0.6933 - val_accuracy: 0.5022\n",
            "Epoch 4/5\n",
            "1407/1407 [==============================] - 132s 94ms/step - loss: 0.6938 - accuracy: 0.5006 - val_loss: 0.6948 - val_accuracy: 0.4990\n",
            "Epoch 5/5\n",
            "1407/1407 [==============================] - 132s 94ms/step - loss: 0.6942 - accuracy: 0.4969 - val_loss: 0.6946 - val_accuracy: 0.4918\n"
          ]
        }
      ]
    },
    {
      "cell_type": "code",
      "source": [
        "simple_rnn_model.summary()"
      ],
      "metadata": {
        "colab": {
          "base_uri": "https://localhost:8080/"
        },
        "id": "xL4-F4GfuGzi",
        "outputId": "c374f69c-42ff-4a34-c59d-8d869da705fe"
      },
      "execution_count": null,
      "outputs": [
        {
          "output_type": "stream",
          "name": "stdout",
          "text": [
            "Model: \"sequential_2\"\n",
            "_________________________________________________________________\n",
            " Layer (type)                Output Shape              Param #   \n",
            "=================================================================\n",
            " embedding_2 (Embedding)     (None, 128, 100)          5000000   \n",
            "                                                                 \n",
            " simple_rnn (SimpleRNN)      (None, 128, 64)           10560     \n",
            "                                                                 \n",
            " simple_rnn_1 (SimpleRNN)    (None, 32)                3104      \n",
            "                                                                 \n",
            " dense_5 (Dense)             (None, 1)                 33        \n",
            "                                                                 \n",
            "=================================================================\n",
            "Total params: 5,013,697\n",
            "Trainable params: 5,013,697\n",
            "Non-trainable params: 0\n",
            "_________________________________________________________________\n"
          ]
        }
      ]
    },
    {
      "cell_type": "code",
      "source": [
        "embedding_dim = 300\n",
        "gru_model = tf.keras.models.Sequential([\n",
        "    tf.keras.layers.Embedding(input_dim=num_words,output_dim=100\n",
        "                     ,input_length=128,trainable=True),\n",
        "    tf.keras.layers.GRU(units=64, activation='tanh', return_sequences=True),\n",
        "    tf.keras.layers.GRU(units=32, activation='tanh'),\n",
        "\n",
        "    tf.keras.layers.Dense(1, activation='sigmoid')\n",
        "])\n",
        "\n",
        "gru_model.compile(loss='binary_crossentropy',\n",
        "                  optimizer='adam',\n",
        "                  metrics=['accuracy'])\n",
        "\n",
        "gru_model_history = gru_model.fit(x_train,y_train,\n",
        "                                  validation_data=(x_test,y_test),\n",
        "                                  epochs=5)"
      ],
      "metadata": {
        "colab": {
          "base_uri": "https://localhost:8080/"
        },
        "id": "gElOORlUdrlQ",
        "outputId": "2ba0bbf5-454e-43ef-9fae-a494cf967ee2"
      },
      "execution_count": null,
      "outputs": [
        {
          "output_type": "stream",
          "name": "stdout",
          "text": [
            "Epoch 1/5\n",
            "1407/1407 [==============================] - 220s 153ms/step - loss: 0.5412 - accuracy: 0.7001 - val_loss: 0.3249 - val_accuracy: 0.8624\n",
            "Epoch 2/5\n",
            "1407/1407 [==============================] - 213s 152ms/step - loss: 0.2411 - accuracy: 0.9047 - val_loss: 0.2698 - val_accuracy: 0.8894\n",
            "Epoch 3/5\n",
            "1407/1407 [==============================] - 214s 152ms/step - loss: 0.1272 - accuracy: 0.9554 - val_loss: 0.3197 - val_accuracy: 0.8880\n",
            "Epoch 4/5\n",
            "1407/1407 [==============================] - 214s 152ms/step - loss: 0.0568 - accuracy: 0.9826 - val_loss: 0.3935 - val_accuracy: 0.8802\n",
            "Epoch 5/5\n",
            "1407/1407 [==============================] - 211s 150ms/step - loss: 0.0276 - accuracy: 0.9924 - val_loss: 0.4990 - val_accuracy: 0.8714\n"
          ]
        }
      ]
    },
    {
      "cell_type": "code",
      "source": [
        "embedding_dim = 300\n",
        "conv1d_model = tf.keras.models.Sequential([\n",
        "    tf.keras.layers.Embedding(input_dim=num_words,output_dim=100\n",
        "                     ,input_length=128,trainable=True),\n",
        "    \n",
        "    tf.keras.layers.Conv1D(64, 7, activation='relu'),\n",
        "    tf.keras.layers.MaxPool1D(5),\n",
        "    tf.keras.layers.Conv1D(32, 7, activation='relu'),\n",
        "    tf.keras.layers.GlobalMaxPool1D(),\n",
        "\n",
        "    tf.keras.layers.Dense(1, activation='sigmoid')\n",
        "])\n",
        "\n",
        "conv1d_model.compile(loss='binary_crossentropy',\n",
        "                     optimizer='adam',\n",
        "                     metrics=['accuracy'])\n",
        "\n",
        "conv1d_model_history = conv1d_model.fit(x_train,y_train,\n",
        "                                        validation_data=(x_test,y_test),\n",
        "                                        epochs=5)"
      ],
      "metadata": {
        "colab": {
          "base_uri": "https://localhost:8080/"
        },
        "id": "LNXj9g-Jd9oR",
        "outputId": "970dc321-c777-45f9-ee41-5d63a497f718"
      },
      "execution_count": null,
      "outputs": [
        {
          "output_type": "stream",
          "name": "stdout",
          "text": [
            "Epoch 1/5\n",
            "1407/1407 [==============================] - 108s 76ms/step - loss: 0.3496 - accuracy: 0.8386 - val_loss: 0.2763 - val_accuracy: 0.8828\n",
            "Epoch 2/5\n",
            "1407/1407 [==============================] - 108s 77ms/step - loss: 0.1430 - accuracy: 0.9487 - val_loss: 0.3299 - val_accuracy: 0.8700\n",
            "Epoch 3/5\n",
            "1407/1407 [==============================] - 107s 76ms/step - loss: 0.0333 - accuracy: 0.9897 - val_loss: 0.5064 - val_accuracy: 0.8612\n",
            "Epoch 4/5\n",
            "1407/1407 [==============================] - 108s 77ms/step - loss: 0.0068 - accuracy: 0.9981 - val_loss: 0.7120 - val_accuracy: 0.8720\n",
            "Epoch 5/5\n",
            "1407/1407 [==============================] - 108s 77ms/step - loss: 0.0021 - accuracy: 0.9995 - val_loss: 1.0014 - val_accuracy: 0.8544\n"
          ]
        }
      ]
    },
    {
      "cell_type": "code",
      "source": [
        ""
      ],
      "metadata": {
        "id": "gtUV45TFj2uN"
      },
      "execution_count": null,
      "outputs": []
    }
  ],
  "metadata": {
    "colab": {
      "collapsed_sections": [],
      "name": "Neural Networks",
      "provenance": [],
      "toc_visible": true
    },
    "kernelspec": {
      "display_name": "Python 3",
      "name": "python3"
    }
  },
  "nbformat": 4,
  "nbformat_minor": 0
}